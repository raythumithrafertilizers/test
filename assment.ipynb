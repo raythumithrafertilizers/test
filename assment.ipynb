{
 "metadata": {
  "name": ""
 },
 "nbformat": 3,
 "nbformat_minor": 0,
 "worksheets": [
  {
   "cells": [
    {
     "cell_type": "code",
     "collapsed": false,
     "input": [
      "def isitpossible(a, b, c, d):\n",
      "    t1, t2 = (a, b), (a+b, b)\n",
      "    t3 = (t2[0], t2[0]+t2[1])\n",
      "    if t3[0] == c and t3[1] == d:\n",
      "        return \"Yes\"\n",
      "    else:\n",
      "        return \"No\"\n",
      "   \n",
      "\n",
      "\n",
      "\n",
      "a = [1,4,5,9]\n",
      "\n",
      "print a[::-1][0], a[::-1][1]\n",
      "\n",
      "\n",
      "t1 = (a[0], a[1])\n",
      "t2 = (t1[0]+t1[1], t1[1])\n",
      "t3 = (t2[0], t2[0]+t2[1])\n",
      "\n",
      "print t3\n",
      "\n",
      "def input_tuple(i_tuple):\n",
      "    print i_tuple\n",
      "    \n",
      "    if i_tuple[0] == a[::-1][1] and i_tuple[1] == a[::-1][0]:\n",
      "        print 'yes'\n",
      "    elif i_tuple[0] < a[::-1][1] or i_tuple[1] < a[::-1][0]:\n",
      "        print 'no'\n",
      "    else:\n",
      "        temp_tuple = (i_tuple[0], i_tuple[0]+i_tuple[1])\n",
      "        input_tuple(temp_tuple)\n",
      "   \n",
      "input_tuple(t3) \n",
      "\n",
      "\n",
      "\n",
      "def calculate_input(input_tuple, c = None, d = None):\n",
      "    if input_tuple[0] == c and input_tuple[1] == d:\n",
      "        return \"Yes\"\n",
      "    elif input_tuple[0] < c or input_tuple[1] < d:\n",
      "        return \"No\"\n",
      "    else:\n",
      "        temp_tuple = (input_tuple[0], input_tuple[0]+input_tuple[1])\n",
      "        calculate_input(temp_tuple, c, d)\n",
      "     else:\n",
      "        temp_tuple = (input_tuple[0], input_tuple[0]+input_tuple[1])\n",
      "        isitpossible(temp_tuple[0], temp_tuple[1], c, d)\u0000\u0000\u0000\u0000\u0000\u0000\u0000\u0000\u0000\u0000\u0000\u0000\u0000\u0000\u0000\u0000\u0000\u0000\u0000\u0000\u0000\u0000\u0000\u0000\u0000\u0000\u0000\u0000\u0000\u0000\u0000\u0000\u0000\u0000\u0000\u0000\u0000\u0000\u0000\u0000\u0000\u0000\u0000\u0000\u0000\u0000\u0000\u0000\u0000\u0000\u0000\u0000\u0000\u0000\u0000\u0000\u0000\u0000\u0000\u0000\u0000\u0000\u0000\u0000\u0000\u0000\u0000\u0000\u0000\u0000\u0000\u0000\u0000\u0000\u0000\u0000\u0000\u0000\u0000\u0000\u0000\u0000\u0000\u0000\u0000\u0000\u0000\u0000\u0000\u0000\u0000\u0000\u0000\u0000\u0000\u0000\u0000\u0000\u0000\u0000\u0000\u0000\u0000\u0000\u0000\u0000\u0000\u0000\u0000\u0000\u0000\u0000\u0000\u0000\u0000\u0000\u0000\u0000\u0000\u0000\u0000\u0000\u0000\u0000\u0000\u0000\u0000\u0000\u0000\u0000\u0000\u0000\u0000\u0000\u0000\u0000\n",
      "        \n",
      "         print t3\n",
      "    if input_tuple[0] == c and input_tuple[1] == d:\n",
      "        return \"Yes\"\n",
      "    elif input_tuple[0] < c or input_tuple[1] < d:\n",
      "        return \"No\"\u0000\u0000\u0000\u0000\u0000\u0000\u0000\u0000\u0000\u0000\u0000\u0000\u0000\u0000\u0000\u0000\u0000\u0000\u0000\u0000\u0000\u0000\u0000\u0000\u0000\u0000\u0000\u0000\u0000\u0000\u0000\u0000\u0000\u0000\u0000\u0000\u0000\u0000\u0000\u0000\u0000\u0000\u0000\u0000\u0000\u0000\u0000\u0000\u0000\u0000\u0000\u0000\u0000\u0000\u0000\u0000\u0000\u0000\u0000\u0000\u0000\u0000\u0000\u0000\u0000\u0000\u0000\u0000\u0000\u0000\u0000\u0000\u0000\u0000\u0000\u0000\u0000\u0000\u0000\u0000\u0000\u0000\u0000\u0000\u0000\u0000\u0000\u0000\u0000\u0000\u0000\u0000\u0000\u0000\u0000\u0000\u0000\u0000\u0000\u0000\u0000\u0000\u0000\u0000\u0000\u0000\u0000\u0000\u0000\u0000\u0000\u0000\u0000\u0000\u0000\u0000\u0000\u0000\u0000\u0000\u0000\u0000\u0000\u0000\u0000\u0000\u0000\u0000\u0000\u0000\u0000\u0000\u0000\u0000\u0000\u0000\u0000\u0000\u0000\u0000\u0000\u0000\u0000\u0000\u0000\u0000\u0000\u0000\u0000\u0000\u0000\u0000\u0000\u0000\u0000\u0000\u0000\u0000\u0000\n",
      "        \n"
     ],
     "language": "python",
     "metadata": {},
     "outputs": [
      {
       "output_type": "stream",
       "stream": "stdout",
       "text": [
        "9 5\n",
        "(5, 9)\n",
        "(5, 9)\n",
        "yes\n"
       ]
      }
     ],
     "prompt_number": 24
    },
    {
     "cell_type": "code",
     "collapsed": false,
     "input": [],
     "language": "python",
     "metadata": {},
     "outputs": []
    }
   ],
   "metadata": {}
  }
 ]
}