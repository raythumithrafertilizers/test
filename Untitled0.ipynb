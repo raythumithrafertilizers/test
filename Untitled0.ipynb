{
 "metadata": {
  "name": ""
 },
 "nbformat": 3,
 "nbformat_minor": 0,
 "worksheets": [
  {
   "cells": [
    {
     "cell_type": "code",
     "collapsed": false,
     "input": [
      "print ('')\n",
      "print (\"Pattern D\")\n",
      "for g in range (4,0,-1):\n",
      "    print(g * ' ' + (4-g) * '#')\n"
     ],
     "language": "python",
     "metadata": {},
     "outputs": [
      {
       "output_type": "stream",
       "stream": "stdout",
       "text": [
        "\n",
        "Pattern D\n",
        "    \n",
        "   #\n",
        "  ##\n",
        " ###\n"
       ]
      }
     ],
     "prompt_number": 5
    }
   ],
   "metadata": {}
  }
 ]
}